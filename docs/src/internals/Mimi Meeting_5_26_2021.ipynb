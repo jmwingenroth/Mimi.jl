{
 "cells": [
  {
   "cell_type": "markdown",
   "metadata": {},
   "source": [
    "Mimi Meeting 4/26/2021"
   ]
  },
  {
   "cell_type": "code",
   "execution_count": null,
   "metadata": {},
   "outputs": [],
   "source": [
    "@defcomp Foo\n",
    "    p1 = Parameter()\n",
    "    p2 = Parameter(default = 1)\n",
    "    p3 = Parameter()\n",
    "    p4 = Parameter(default = 2)\n",
    "end\n",
    "\n",
    "@defcomp Bar\n",
    "    p1 = Parameter()\n",
    "    p2 = Parameter()\n",
    "    p5 = Parameter(default = 5)\n",
    "    p6 = Parameter(default = 6)\n",
    "end"
   ]
  },
  {
   "cell_type": "markdown",
   "metadata": {},
   "source": [
    "Simple Cases:"
   ]
  },
  {
   "cell_type": "code",
   "execution_count": null,
   "metadata": {},
   "outputs": [],
   "source": [
    "m = Model()\n",
    "\n",
    "add_comp!(m, Foo)\n",
    "\n",
    "# above the add_comp! call calls create_nonshared_param! for each parameter, and for the parameters with \n",
    "# default values sets a value, otherwise it sets to a sentinal value or type for a missing parameter value\n",
    "\n",
    "update_param!(m, :Foo, :p1, 5) # updates nonshared param Foo.p1 to 5\n",
    "\n",
    "set_param!(m, :p2, 10) # now we create a new shared model parameter called p2\n",
    "\n",
    "update_param!(m, :Foo, :p2, 7)  # Errors with a message that Foo.p2 is connected to a shared model \n",
    "                                # parameter, and you can't use the comp.param method of update_param! \n",
    "                                # in that case"
   ]
  },
  {
   "cell_type": "markdown",
   "metadata": {},
   "source": [
    "Old Way to Handle Parameters"
   ]
  },
  {
   "cell_type": "code",
   "execution_count": null,
   "metadata": {},
   "outputs": [],
   "source": [
    "m = Model()\n",
    "add_comp!(m, Foo)\n",
    "\n",
    "# at this point there are no shared model parameters, everything is unconnected\n",
    "\n",
    "set_param!(m, :Foo, :p1, 5) # now there is a shared model parameter with the name :p1 connected to Foo\n",
    "set_param!(m, :Bar, :p1, 5) # errors because we already have a :p1 model parameter\n",
    "update_param!(m, :p1, 5)\n",
    "\n",
    "set_param!(m, :p2, 8) # now there is a shared model parameter with the name :p2 connected to Foo and Bar\n",
    "update_param!(m, :p2, 5)\n",
    "\n",
    "# defaults handled at runtime"
   ]
  },
  {
   "cell_type": "markdown",
   "metadata": {},
   "source": [
    "Old Way to Handle Parameters"
   ]
  },
  {
   "cell_type": "code",
   "execution_count": null,
   "metadata": {},
   "outputs": [],
   "source": [
    "m = Model()\n",
    "add_comp!(m, Foo)\n",
    "\n",
    "# at this point there are nonshared model parameters for each component/parameter pair, and the ones with \n",
    "# defaults have values while the others have sentinal NaN or missing types\n",
    "\n",
    "update_param!(m, :Foo, :p1, 5)\n",
    "update_param!(m, :p1, 5) # errors because there is no shared :p1\n",
    "\n",
    "create_shared_param!(m, :p2_shared, 5) # create's a shared parameter :p2\n",
    "connect_param!(m, :Foo, :p2, :p2_shared) # connects Foo's :p2 to m's :p2_shared\n",
    "connect_param!(m, :Bar, :p2, :p2_shared) # connects Bar's :p2 to m's :p2_shared"
   ]
  },
  {
   "cell_type": "code",
   "execution_count": null,
   "metadata": {},
   "outputs": [],
   "source": []
  },
  {
   "cell_type": "code",
   "execution_count": null,
   "metadata": {},
   "outputs": [],
   "source": []
  }
 ],
 "metadata": {
  "kernelspec": {
   "display_name": "Julia 1.6.0",
   "language": "julia",
   "name": "julia-1.6"
  },
  "language_info": {
   "file_extension": ".jl",
   "mimetype": "application/julia",
   "name": "julia",
   "version": "1.6.0"
  }
 },
 "nbformat": 4,
 "nbformat_minor": 4
}
